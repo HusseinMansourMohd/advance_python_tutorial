{
 "cells": [
  {
   "cell_type": "code",
   "execution_count": null,
   "metadata": {},
   "outputs": [],
   "source": [
    "#Dictionary : Key-Value pairs, Unorder, Mutable\n",
    "mydict = {\"name\": \"Max\", \"age\" : 28 , \"city\": \"New York\"}\n",
    "\n",
    "\n",
    "print(mydict)"
   ]
  }
 ],
 "metadata": {
  "kernelspec": {
   "display_name": "base",
   "language": "python",
   "name": "python3"
  },
  "language_info": {
   "name": "python",
   "version": "3.9.12"
  },
  "orig_nbformat": 4
 },
 "nbformat": 4,
 "nbformat_minor": 2
}
