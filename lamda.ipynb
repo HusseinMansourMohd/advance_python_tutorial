{
 "cells": [
  {
   "cell_type": "code",
   "execution_count": null,
   "metadata": {},
   "outputs": [],
   "source": [
    "# lamda aurgument: expression\n",
    "# Lamda function is a small one line anonymous function that is defines without a name\n",
    "add10 = lambda x: x + 10\n",
    "print(add10(5))"
   ]
  }
 ],
 "metadata": {
  "kernelspec": {
   "display_name": "base",
   "language": "python",
   "name": "python3"
  },
  "language_info": {
   "name": "python",
   "version": "3.9.12"
  },
  "orig_nbformat": 4
 },
 "nbformat": 4,
 "nbformat_minor": 2
}
