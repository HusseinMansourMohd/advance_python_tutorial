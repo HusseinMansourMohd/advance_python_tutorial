{
 "cells": [
  {
   "cell_type": "code",
   "execution_count": null,
   "metadata": {},
   "outputs": [],
   "source": []
  },
  {
   "cell_type": "code",
   "execution_count": 6,
   "metadata": {},
   "outputs": [
    {
     "name": "stdout",
     "output_type": "stream",
     "text": [
      "strat value 0\n"
     ]
    }
   ],
   "source": [
    "import time\n",
    "from threading import Thread , Lock\n",
    "\n",
    "database_value = 0\n",
    "def increase(lock):\n",
    "    global database_value\n",
    "\n",
    "    lock.acquire()\n",
    "    local_copy  = database_value\n",
    "    local_copy +=1\n",
    "    time.sleep(0.1) # switch between threads.\n",
    "    database_value = local_copy\n",
    "\n",
    "if __name__ == \"__main__\":\n",
    "    lock = Lock()\n",
    "    print('strat value', database_value)\n",
    "\n",
    "    thread1 = Thread(target=increase , args=(lock,))\n",
    "    thread2 = Thread(target=increase , args=(lock,))\n",
    "\n",
    "    thread1.start()\n",
    "    thread2.start()\n",
    "\n",
    "    thread1.join()\n",
    "    thread2.join()\n",
    "\n",
    "\n",
    "    print('end value',database_value)\n",
    "    print('end main')\n"
   ]
  },
  {
   "cell_type": "code",
   "execution_count": null,
   "metadata": {},
   "outputs": [],
   "source": [
    "# "
   ]
  },
  {
   "cell_type": "code",
   "execution_count": null,
   "metadata": {},
   "outputs": [],
   "source": []
  },
  {
   "cell_type": "code",
   "execution_count": null,
   "metadata": {},
   "outputs": [],
   "source": []
  },
  {
   "cell_type": "code",
   "execution_count": null,
   "metadata": {},
   "outputs": [],
   "source": []
  },
  {
   "cell_type": "code",
   "execution_count": null,
   "metadata": {},
   "outputs": [],
   "source": []
  },
  {
   "cell_type": "code",
   "execution_count": null,
   "metadata": {},
   "outputs": [],
   "source": []
  }
 ],
 "metadata": {
  "kernelspec": {
   "display_name": "base",
   "language": "python",
   "name": "python3"
  },
  "language_info": {
   "codemirror_mode": {
    "name": "ipython",
    "version": 3
   },
   "file_extension": ".py",
   "mimetype": "text/x-python",
   "name": "python",
   "nbconvert_exporter": "python",
   "pygments_lexer": "ipython3",
   "version": "3.9.12"
  },
  "orig_nbformat": 4
 },
 "nbformat": 4,
 "nbformat_minor": 2
}
