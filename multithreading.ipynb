{
 "cells": [
  {
   "cell_type": "code",
   "execution_count": null,
   "metadata": {},
   "outputs": [],
   "source": []
  },
  {
   "cell_type": "code",
   "execution_count": 1,
   "metadata": {},
   "outputs": [
    {
     "name": "stdout",
     "output_type": "stream",
     "text": [
      "strat value 0\n",
      "end value 2\n",
      "end main\n"
     ]
    }
   ],
   "source": [
    "import time\n",
    "from threading import Thread , Lock\n",
    "\n",
    "database_value = 0\n",
    "def increase(lock):\n",
    "    global database_value\n",
    "\n",
    "    with lock: # a  contex manger that aquires and release locks \n",
    "        local_copy  = database_value\n",
    "        local_copy +=1\n",
    "        time.sleep(0.1) # switch between threads. ### no switch threads\n",
    "        database_value = local_copy\n",
    "\n",
    "if __name__ == \"__main__\":\n",
    "    lock = Lock()\n",
    "    print('strat value', database_value)\n",
    "\n",
    "    thread1 = Thread(target=increase , args=(lock,))\n",
    "    thread2 = Thread(target=increase , args=(lock,))\n",
    "\n",
    "    thread1.start()\n",
    "    thread2.start()\n",
    "\n",
    "    thread1.join()\n",
    "    thread2.join()\n",
    "\n",
    "\n",
    "    print('end value',database_value)\n",
    "    print('end main')\n"
   ]
  },
  {
   "cell_type": "code",
   "execution_count": 2,
   "metadata": {},
   "outputs": [
    {
     "name": "stdout",
     "output_type": "stream",
     "text": [
      "1\n",
      "end main\n"
     ]
    }
   ],
   "source": [
    "# queue \n",
    "from threading import Thread, Lock\n",
    "from queue import Queue\n",
    "\n",
    "if __name__ == \"__main__\":\n",
    "    q = Queue()\n",
    "    q.put(1)\n",
    "    q.put(2)\n",
    "    q.put(3)\n",
    "\n",
    "    # 3 2 1 ------>\n",
    "    first = q.get() # get object\n",
    "    print(first)\n",
    "\n",
    "\n",
    "    q.task_done()\n",
    "    q.join() # we block the main and wait until all the elements in our queue in\n",
    "\n",
    "\n",
    "    print('end main')"
   ]
  },
  {
   "cell_type": "code",
   "execution_count": 6,
   "metadata": {},
   "outputs": [
    {
     "name": "stdout",
     "output_type": "stream",
     "text": [
      "in  Thread-28 got 1in  Thread-33 got 2\n",
      "in  Thread-33 got 3\n",
      "in  Thread-27 got 4\n",
      "in  Thread-27 got 5\n",
      "in  Thread-27 got 6\n",
      "in  Thread-27 got 7\n",
      "in  Thread-27 got 8\n",
      "in  Thread-27 got 9\n",
      "in  Thread-27 got 10\n",
      "in  Thread-27 got 11in  Thread-35 got 12\n",
      "in  Thread-35 got 13\n",
      "in  Thread-35 got 14\n",
      "in  Thread-35 got 15\n",
      "in  Thread-32 got 16\n",
      "in  Thread-32 got 17in  Thread-29 got 18\n",
      "in  Thread-29 got 19\n",
      "in  Thread-29 got 20\n",
      "\n",
      "\n",
      "\n"
     ]
    }
   ],
   "source": [
    "# queue \n",
    "from threading import Thread, Lock , current_thread\n",
    "from queue import Queue\n",
    "\n",
    "def worker(q.lock):\n",
    "    while True:\n",
    "        value = q.get()\n",
    "\n",
    "        #processing...\n",
    "        print(f'in  {current_thread().name} got {value}')\n",
    "        if ...:\n",
    "            break\n",
    "\n",
    "if __name__ == \"__main__\":\n",
    "    \n",
    "    q = Queue()\n",
    "\n",
    "    nums_threads = 10 \n",
    "    for i in range(nums_threads):\n",
    "        thread = Thread(target=worker, args=(q, lock))\n",
    "        thread.daemon = True # is a back ground thread . that dies when the main thread dies.\n",
    "        thread.start()\n",
    "\n",
    "    for i in range(1,21):\n",
    "        q.put(i)\n",
    "\n",
    "    q.join()\n",
    "\n",
    "    print('end main')"
   ]
  },
  {
   "cell_type": "code",
   "execution_count": null,
   "metadata": {},
   "outputs": [],
   "source": []
  },
  {
   "cell_type": "code",
   "execution_count": null,
   "metadata": {},
   "outputs": [],
   "source": []
  },
  {
   "cell_type": "code",
   "execution_count": null,
   "metadata": {},
   "outputs": [],
   "source": []
  },
  {
   "cell_type": "code",
   "execution_count": null,
   "metadata": {},
   "outputs": [],
   "source": []
  }
 ],
 "metadata": {
  "kernelspec": {
   "display_name": "base",
   "language": "python",
   "name": "python3"
  },
  "language_info": {
   "codemirror_mode": {
    "name": "ipython",
    "version": 3
   },
   "file_extension": ".py",
   "mimetype": "text/x-python",
   "name": "python",
   "nbconvert_exporter": "python",
   "pygments_lexer": "ipython3",
   "version": "3.9.12"
  },
  "orig_nbformat": 4
 },
 "nbformat": 4,
 "nbformat_minor": 2
}
