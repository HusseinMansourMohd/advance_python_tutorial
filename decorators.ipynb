{
 "cells": [
  {
   "cell_type": "code",
   "execution_count": 3,
   "metadata": {},
   "outputs": [
    {
     "ename": "NameError",
     "evalue": "name 'mydecorator' is not defined",
     "output_type": "error",
     "traceback": [
      "\u001b[1;31m---------------------------------------------------------------------------\u001b[0m",
      "\u001b[1;31mNameError\u001b[0m                                 Traceback (most recent call last)",
      "\u001b[1;32mc:\\Users\\hussein\\advance_python_tutorial\\decorators.ipynb Cell 1\u001b[0m in \u001b[0;36m<cell line: 1>\u001b[1;34m()\u001b[0m\n\u001b[1;32m----> <a href='vscode-notebook-cell:/c%3A/Users/hussein/advance_python_tutorial/decorators.ipynb#W0sZmlsZQ%3D%3D?line=0'>1</a>\u001b[0m \u001b[39m@mydecorator\u001b[39m\n\u001b[0;32m      <a href='vscode-notebook-cell:/c%3A/Users/hussein/advance_python_tutorial/decorators.ipynb#W0sZmlsZQ%3D%3D?line=1'>2</a>\u001b[0m \u001b[39mdef\u001b[39;00m \u001b[39mdosomething\u001b[39m():\n\u001b[0;32m      <a href='vscode-notebook-cell:/c%3A/Users/hussein/advance_python_tutorial/decorators.ipynb#W0sZmlsZQ%3D%3D?line=2'>3</a>\u001b[0m     \u001b[39mpass\u001b[39;00m\n",
      "\u001b[1;31mNameError\u001b[0m: name 'mydecorator' is not defined"
     ]
    }
   ],
   "source": [
    "# decorators takes am function as an argument and add to its behaviour of the function without extending its function. \n",
    "@mydecorator\n",
    "def dosomething():\n",
    "    pass\n",
    "\n"
   ]
  },
  {
   "cell_type": "code",
   "execution_count": 23,
   "metadata": {},
   "outputs": [
    {
     "name": "stdout",
     "output_type": "stream",
     "text": [
      "Help on function add5 in module __main__:\n",
      "\n",
      "add5(x)\n",
      "\n",
      "None\n",
      "add5\n",
      "start\n",
      "end\n"
     ]
    },
    {
     "data": {
      "text/plain": [
       "15"
      ]
     },
     "execution_count": 23,
     "metadata": {},
     "output_type": "execute_result"
    }
   ],
   "source": [
    "#template for decoraters\n",
    "import functools\n",
    "\n",
    "def start_end_decorator(func):\n",
    "    @functools.wraps(func)\n",
    "    def wrapper(*args):\n",
    "        print('start')\n",
    "        result = func(*args)\n",
    "        print('end')\n",
    "        return result\n",
    "    return wrapper\n",
    "\n",
    "@start_end_decorator        \n",
    "def add5(x):\n",
    "    return x + 5\n",
    "\n",
    "#print_name = start_end_decorator(print_name)\n",
    "\n",
    "print(help(add5))\n",
    "print(add5.__name__)\n",
    "add5(10)"
   ]
  },
  {
   "cell_type": "code",
   "execution_count": 25,
   "metadata": {},
   "outputs": [
    {
     "name": "stdout",
     "output_type": "stream",
     "text": [
      "Hello Alex\n",
      "Hello Alex\n",
      "Hello Alex\n"
     ]
    }
   ],
   "source": [
    "import functools\n",
    "\n",
    "def repeat(num_times):\n",
    "    def decirator_repeat(func):\n",
    "        @functools.wraps(func)\n",
    "        def wrapper(*args, **kwargs):\n",
    "            for _ in range(num_times):\n",
    "                result = func(*args, **kwargs)\n",
    "            return result\n",
    "        return wrapper\n",
    "    return decirator_repeat\n",
    "            \n",
    "@repeat(num_times=3)\n",
    "def greet(name):\n",
    "    print(f'Hello {name}')\n",
    "\n",
    "greet('Alex')"
   ]
  },
  {
   "cell_type": "code",
   "execution_count": 31,
   "metadata": {},
   "outputs": [
    {
     "name": "stdout",
     "output_type": "stream",
     "text": [
      "start\n",
      "Hello ALex\n",
      "end\n"
     ]
    },
    {
     "data": {
      "text/plain": [
       "'Hello ALex'"
      ]
     },
     "execution_count": 31,
     "metadata": {},
     "output_type": "execute_result"
    }
   ],
   "source": [
    "#nested decoraters\n",
    "\n",
    "@start_end_decorator\n",
    "def say_hello(name):\n",
    "    greeting = f'Hello {name}'\n",
    "    print(greeting)\n",
    "    return greeting\n",
    "\n",
    "say_hello('ALex')\n"
   ]
  },
  {
   "cell_type": "code",
   "execution_count": 40,
   "metadata": {},
   "outputs": [
    {
     "name": "stdout",
     "output_type": "stream",
     "text": [
      "This is executes 1 times\n",
      "Hello\n"
     ]
    }
   ],
   "source": [
    "#last decorater\n",
    "\n",
    "class CountCalls:\n",
    "    def __init__(self, func):\n",
    "        self.func = func\n",
    "        self.nums_call = 0\n",
    "    \n",
    "    def __call__(self, *args, **kwargs):\n",
    "        self.nums_call += 1\n",
    "        print(f'This is executes {self.nums_call} times')\n",
    "        return self.func(*args, **kwargs)\n",
    "\n",
    "#\n",
    "\n",
    "\n",
    "@CountCalls\n",
    "def say_hello():\n",
    "    print('Hello')\n",
    "\n",
    "say_hello()\n"
   ]
  },
  {
   "cell_type": "code",
   "execution_count": 42,
   "metadata": {},
   "outputs": [
    {
     "name": "stdout",
     "output_type": "stream",
     "text": [
      "This is executes 2 times\n",
      "Hello\n"
     ]
    }
   ],
   "source": [
    "say_hello()"
   ]
  }
 ],
 "metadata": {
  "kernelspec": {
   "display_name": "base",
   "language": "python",
   "name": "python3"
  },
  "language_info": {
   "codemirror_mode": {
    "name": "ipython",
    "version": 3
   },
   "file_extension": ".py",
   "mimetype": "text/x-python",
   "name": "python",
   "nbconvert_exporter": "python",
   "pygments_lexer": "ipython3",
   "version": "3.9.12"
  },
  "orig_nbformat": 4
 },
 "nbformat": 4,
 "nbformat_minor": 2
}
