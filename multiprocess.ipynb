{
 "cells": [
  {
   "cell_type": "code",
   "execution_count": 1,
   "metadata": {},
   "outputs": [
    {
     "ename": "AttributeError",
     "evalue": "'Process' object has no attribute 'append'",
     "output_type": "error",
     "traceback": [
      "\u001b[1;31m---------------------------------------------------------------------------\u001b[0m",
      "\u001b[1;31mAttributeError\u001b[0m                            Traceback (most recent call last)",
      "\u001b[1;32mc:\\Users\\hussein\\advance_python_tutorial\\multiprocess.ipynb Cell 1\u001b[0m in \u001b[0;36m<cell line: 7>\u001b[1;34m()\u001b[0m\n\u001b[0;32m     <a href='vscode-notebook-cell:/c%3A/Users/hussein/advance_python_tutorial/multiprocess.ipynb#W0sZmlsZQ%3D%3D?line=12'>13</a>\u001b[0m \u001b[39mfor\u001b[39;00m i \u001b[39min\u001b[39;00m \u001b[39mrange\u001b[39m(num_processes):\n\u001b[0;32m     <a href='vscode-notebook-cell:/c%3A/Users/hussein/advance_python_tutorial/multiprocess.ipynb#W0sZmlsZQ%3D%3D?line=13'>14</a>\u001b[0m     process \u001b[39m=\u001b[39m Process(target\u001b[39m=\u001b[39msquare_numbers)\n\u001b[1;32m---> <a href='vscode-notebook-cell:/c%3A/Users/hussein/advance_python_tutorial/multiprocess.ipynb#W0sZmlsZQ%3D%3D?line=14'>15</a>\u001b[0m     process\u001b[39m.\u001b[39;49mappend(process)\n\u001b[0;32m     <a href='vscode-notebook-cell:/c%3A/Users/hussein/advance_python_tutorial/multiprocess.ipynb#W0sZmlsZQ%3D%3D?line=16'>17</a>\u001b[0m \u001b[39mfor\u001b[39;00m process \u001b[39min\u001b[39;00m processes:\n\u001b[0;32m     <a href='vscode-notebook-cell:/c%3A/Users/hussein/advance_python_tutorial/multiprocess.ipynb#W0sZmlsZQ%3D%3D?line=17'>18</a>\u001b[0m     process\u001b[39m.\u001b[39mstart()\n",
      "\u001b[1;31mAttributeError\u001b[0m: 'Process' object has no attribute 'append'"
     ]
    }
   ],
   "source": [
    "from multiprocessing import Process\n",
    "import os\n",
    "def square_numbers():\n",
    "    for i in range(1000):\n",
    "        i*i\n",
    "\n",
    "if __name__ == '__main__':\n",
    "    processes = []\n",
    "    num_processes = os.cpu_count()\n",
    "    # number of CPUs on the machine, Usually a good choise for the number of processes\n",
    "\n",
    "    # create processes and asign a function for each process\n",
    "    for i in range(num_processes):\n",
    "        process = Process(target=square_numbers)\n",
    "        process.append(process)\n",
    "\n",
    "    for process in processes:\n",
    "        process.start()\n",
    "\n",
    "    for process in processes:\n",
    "        process.join()"
   ]
  },
  {
   "cell_type": "code",
   "execution_count": 9,
   "metadata": {},
   "outputs": [
    {
     "name": "stdout",
     "output_type": "stream",
     "text": [
      "Number at the beginning is 0\n",
      "number at end is 0\n"
     ]
    }
   ],
   "source": [
    "from multiprocessing import Process , Value , Array , Lock\n",
    "import os \n",
    "import time\n",
    "\n",
    "def add_100(number):\n",
    "    for i in range(100):\n",
    "        time.sleep(0.01)\n",
    "        #lock.acquire()\n",
    "        with lock:\n",
    "            number.value += 1\n",
    "        #lock.release()\n",
    "\n",
    "if __name__ == '__main__':\n",
    "    lock = Lock()\n",
    "\n",
    "    shared_number = Value('i',0)\n",
    "    print('Number at the beginning is',shared_number.value)\n",
    "\n",
    "    p1 = Process(target=add_100, args=(shared_number,))\n",
    "    p2 = Process(target=add_100, args=(shared_number,))\n",
    "\n",
    "    p1.start()\n",
    "    p2.start()\n",
    "\n",
    "    p1.join()\n",
    "    p2.join()\n",
    "\n",
    "    print('number at end is', shared_number.value)\n",
    "\n",
    "\n",
    "\n",
    "\n",
    "\n"
   ]
  },
  {
   "cell_type": "code",
   "execution_count": null,
   "metadata": {},
   "outputs": [],
   "source": []
  }
 ],
 "metadata": {
  "kernelspec": {
   "display_name": "base",
   "language": "python",
   "name": "python3"
  },
  "language_info": {
   "codemirror_mode": {
    "name": "ipython",
    "version": 3
   },
   "file_extension": ".py",
   "mimetype": "text/x-python",
   "name": "python",
   "nbconvert_exporter": "python",
   "pygments_lexer": "ipython3",
   "version": "3.9.12"
  },
  "orig_nbformat": 4
 },
 "nbformat": 4,
 "nbformat_minor": 2
}
