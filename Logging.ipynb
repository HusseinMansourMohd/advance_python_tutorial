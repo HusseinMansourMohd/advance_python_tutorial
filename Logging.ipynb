{
 "cells": [
  {
   "cell_type": "code",
   "execution_count": 1,
   "metadata": {},
   "outputs": [
    {
     "name": "stderr",
     "output_type": "stream",
     "text": [
      "WARNING:root:This is a warring messeage\n",
      "ERROR:root:this is a error message\n",
      "CRITICAL:root:this is a critical message\n"
     ]
    }
   ],
   "source": [
    "import logging\n",
    "#you can log into five different levels\n",
    "logging.debug(\"This is a debug message\")\n",
    "logging.info(\"This is an info message\")\n",
    "logging.warning(\"This is a warring messeage\")\n",
    "logging.error(\"this is a error message\")\n",
    "logging.critical(\"this is a critical message\")"
   ]
  },
  {
   "cell_type": "code",
   "execution_count": null,
   "metadata": {},
   "outputs": [],
   "source": [
    "#by default only messages above are printed (they only access able levels are :=)\n",
    "# warning \n",
    "# error\n",
    "# critical"
   ]
  },
  {
   "cell_type": "code",
   "execution_count": 2,
   "metadata": {},
   "outputs": [],
   "source": [
    "logging.basicConfig(level=logging.DEBUG ,\n",
    "                    format = '%(asctime)s - %(name)s - %(levelname)s - %(messeage)s',\n",
    "                    datefmt = '%m/%d/%Y %H:%M:%S')"
   ]
  },
  {
   "cell_type": "code",
   "execution_count": 3,
   "metadata": {},
   "outputs": [
    {
     "name": "stderr",
     "output_type": "stream",
     "text": [
      "WARNING:root:This is a warring messeage\n",
      "ERROR:root:this is a error message\n",
      "CRITICAL:root:this is a critical message\n"
     ]
    }
   ],
   "source": [
    "logging.debug(\"This is a debug message\")\n",
    "logging.info(\"This is an info message\")\n",
    "logging.warning(\"This is a warring messeage\")\n",
    "logging.error(\"this is a error message\")\n",
    "logging.critical(\"this is a critical message\")"
   ]
  },
  {
   "cell_type": "code",
   "execution_count": 19,
   "metadata": {},
   "outputs": [],
   "source": [
    "# enternal logging\n",
    "#in practice we won't be using the root logger\n",
    "#this shoud ne in a different file\n",
    "import logging\n",
    "def helper():\n",
    "    logger = logging.getLogger(__name__)\n",
    "    logger.propagate() # this will not probagat to our base logger\n",
    "    logger.info('hello from helper')\n",
    "    return logger\n"
   ]
  },
  {
   "cell_type": "code",
   "execution_count": 21,
   "metadata": {},
   "outputs": [
    {
     "data": {
      "text/plain": [
       "<Logger __main__ (WARNING)>"
      ]
     },
     "execution_count": 21,
     "metadata": {},
     "output_type": "execute_result"
    }
   ],
   "source": [
    "import logging\n",
    "logging.basicConfig(level=logging.DEBUG ,\n",
    "                    format = '%(asctime)s - %(name)s - %(levelname)s - %(messeage)s',\n",
    "                    datefmt = '%m/%d/%Y %H:%M:%S')\n",
    "helper()\n"
   ]
  },
  {
   "cell_type": "code",
   "execution_count": 25,
   "metadata": {},
   "outputs": [
    {
     "name": "stderr",
     "output_type": "stream",
     "text": [
      "__main__ - WARNING - this is a waring\n",
      "WARNING:__main__:this is a waring\n",
      "__main__ - ERROR - this is an error\n",
      "ERROR:__main__:this is an error\n"
     ]
    }
   ],
   "source": [
    "#change log stream to a logg\n",
    "logger = logging.getLogger(__name__)\n",
    "\n",
    "#create handler\n",
    "stream_h = logging.StreamHandler()\n",
    "file_h = logging.FileHandler('file.log')\n",
    "\n",
    "#level and the format\n",
    "stream_h.setLevel(logging.WARNING)\n",
    "file_h.setLevel(logging.ERROR)\n",
    "\n",
    "formatter = logging.Formatter('%(name)s - %(levelname)s - %(message)s' )\n",
    "stream_h.setFormatter(formatter)\n",
    "file_h.setFormatter(formatter)\n",
    "\n",
    "logger.addHandler(stream_h)\n",
    "logger.addHandler(file_h)\n",
    "\n",
    "logger.warning('this is a waring')\n",
    "logger.error('this is an error')"
   ]
  },
  {
   "cell_type": "code",
   "execution_count": null,
   "metadata": {},
   "outputs": [],
   "source": [
    "logger.warning"
   ]
  }
 ],
 "metadata": {
  "kernelspec": {
   "display_name": "base",
   "language": "python",
   "name": "python3"
  },
  "language_info": {
   "codemirror_mode": {
    "name": "ipython",
    "version": 3
   },
   "file_extension": ".py",
   "mimetype": "text/x-python",
   "name": "python",
   "nbconvert_exporter": "python",
   "pygments_lexer": "ipython3",
   "version": "3.9.12"
  },
  "orig_nbformat": 4
 },
 "nbformat": 4,
 "nbformat_minor": 2
}
