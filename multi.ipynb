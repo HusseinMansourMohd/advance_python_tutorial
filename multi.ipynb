{
 "cells": [
  {
   "cell_type": "code",
   "execution_count": 1,
   "metadata": {},
   "outputs": [],
   "source": [
    "##proccess and a thread\n",
    "from multiprocessing import Process\n",
    "import os\n",
    "from threading import Thread\n",
    "import time\n",
    "\n",
    "\n",
    "def square_numbers():\n",
    "    for i in range(100):\n",
    "        i*i\n",
    "    \n",
    "processes = []\n",
    "num_processes = os.cpu_count()\n",
    "\n",
    "# create processes\n",
    "for i in range(num_processes):\n",
    "    p = Process(target=square_numbers )\n",
    "    processes.append(p) \n",
    "\n",
    "\n",
    "# start\n",
    "for p in processes:\n",
    "    p.start()\n",
    "\n",
    "for p in processes:\n",
    "    p.start()\n",
    "    \n",
    "# join\n",
    "for p in processes:\n",
    "    p.join()\n",
    "\n",
    "print('end main')\n"
   ]
  },
  {
   "cell_type": "code",
   "execution_count": 3,
   "metadata": {},
   "outputs": [],
   "source": [
    "from threading import Thread\n",
    "threads = []\n",
    "def square_numbers():\n",
    "    for i in range(100):\n",
    "        t=Thread(target=square_numbers)\n",
    "        threads.apped(t)\n",
    "\n",
    "#start \n",
    "for t in threads:\n",
    "    t.start()\n",
    "\n",
    "# join\n",
    "for t in threads:\n",
    "    t.join()"
   ]
  },
  {
   "cell_type": "code",
   "execution_count": null,
   "metadata": {},
   "outputs": [],
   "source": []
  }
 ],
 "metadata": {
  "kernelspec": {
   "display_name": "base",
   "language": "python",
   "name": "python3"
  },
  "language_info": {
   "codemirror_mode": {
    "name": "ipython",
    "version": 3
   },
   "file_extension": ".py",
   "mimetype": "text/x-python",
   "name": "python",
   "nbconvert_exporter": "python",
   "pygments_lexer": "ipython3",
   "version": "3.9.12"
  },
  "orig_nbformat": 4
 },
 "nbformat": 4,
 "nbformat_minor": 2
}
